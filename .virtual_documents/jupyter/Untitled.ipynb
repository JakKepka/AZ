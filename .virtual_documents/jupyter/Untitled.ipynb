%cd ..


from src.toeplitz import toeplitz_matvec
import numpy as np


n = 7
t_col = np.array([1, 2, 3, 4, 5, 6, 7], dtype=float)
t_row = np.array([1, -1, 2, -2, 3, -3, 4], dtype=float)

x = np.arange(1, n+1, dtype=float)
y = toeplitz_matvec(t_col, t_row, x)
print("Wynik mnożenia Toeplitza:", y)





import numpy as np
from scipy.linalg import toeplitz

T = toeplitz(t_row, t_col)


T


result = T @ x


result





t_col = [4, 1, -2, 3]
t_row = [4, 2, 0, -1]

v = np.array([1, 2, 3, 4])

T = toeplitz(t_col, t_row)

print(T @ v)



