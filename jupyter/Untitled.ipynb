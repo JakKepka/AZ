{
 "cells": [
  {
   "cell_type": "code",
   "execution_count": 2,
   "id": "9ad6781c-051a-4df4-a588-14297ffe2512",
   "metadata": {},
   "outputs": [
    {
     "name": "stdout",
     "output_type": "stream",
     "text": [
      "/Users/kubak/Desktop/mini/sem1/AZ\n"
     ]
    }
   ],
   "source": [
    "%cd .."
   ]
  },
  {
   "cell_type": "code",
   "execution_count": 3,
   "id": "8a84fe0b-1acd-4932-ab39-8dbb1942933d",
   "metadata": {},
   "outputs": [],
   "source": [
    "from src.toeplitz import toeplitz_matvec\n",
    "import numpy as np"
   ]
  },
  {
   "cell_type": "code",
   "execution_count": 4,
   "id": "719afe5d-bac0-4490-9e1b-72e7cda3fb9f",
   "metadata": {
    "scrolled": true
   },
   "outputs": [
    {
     "name": "stdout",
     "output_type": "stream",
     "text": [
      "Wynik mnożenia Toeplitza: [-64. 125. -72. -25. -18. -76.  95.  99.]\n"
     ]
    }
   ],
   "source": [
    "n = 8\n",
    "\n",
    "t_col = np.array([1, -8, -4, -3, -5, 10, -7, -10], dtype=float)\n",
    "t_row = np.array([1, -8, -6, -4, -8, -10, 9, 4], dtype=float)\n",
    "\n",
    "x = np.array([5, 7, 2, -7, -6, -4, 8, -4])\n",
    "y = toeplitz_matvec(t_col, t_row, x)\n",
    "print(\"Wynik mnożenia Toeplitza:\", y)"
   ]
  },
  {
   "cell_type": "markdown",
   "id": "c838397a-7058-43d8-93fe-f6b9375d088d",
   "metadata": {},
   "source": [
    "# Library method"
   ]
  },
  {
   "cell_type": "code",
   "execution_count": 6,
   "id": "fb49070f-5292-49bc-b724-8e5d68fc8a63",
   "metadata": {},
   "outputs": [],
   "source": [
    "import numpy as np\n",
    "from scipy.linalg import toeplitz\n",
    "\n",
    "T = toeplitz(t_row, t_col)"
   ]
  },
  {
   "cell_type": "code",
   "execution_count": 7,
   "id": "efd3ea46-76f6-4eeb-8d8d-6b145f636f2d",
   "metadata": {},
   "outputs": [
    {
     "data": {
      "text/plain": [
       "array([[  1.,  -8.,  -4.,  -3.,  -5.,  10.,  -7., -10.],\n",
       "       [ -8.,   1.,  -8.,  -4.,  -3.,  -5.,  10.,  -7.],\n",
       "       [ -6.,  -8.,   1.,  -8.,  -4.,  -3.,  -5.,  10.],\n",
       "       [ -4.,  -6.,  -8.,   1.,  -8.,  -4.,  -3.,  -5.],\n",
       "       [ -8.,  -4.,  -6.,  -8.,   1.,  -8.,  -4.,  -3.],\n",
       "       [-10.,  -8.,  -4.,  -6.,  -8.,   1.,  -8.,  -4.],\n",
       "       [  9., -10.,  -8.,  -4.,  -6.,  -8.,   1.,  -8.],\n",
       "       [  4.,   9., -10.,  -8.,  -4.,  -6.,  -8.,   1.]])"
      ]
     },
     "execution_count": 7,
     "metadata": {},
     "output_type": "execute_result"
    }
   ],
   "source": [
    "T"
   ]
  },
  {
   "cell_type": "code",
   "execution_count": 8,
   "id": "0eb1943f-bb20-4d58-8aea-9260f532800d",
   "metadata": {},
   "outputs": [],
   "source": [
    "result = T @ x"
   ]
  },
  {
   "cell_type": "code",
   "execution_count": 9,
   "id": "575b5034-2d3e-4345-938d-466c0406cfa9",
   "metadata": {},
   "outputs": [
    {
     "data": {
      "text/plain": [
       "array([-64., 125., -72., -25., -18., -76.,  95.,  99.])"
      ]
     },
     "execution_count": 9,
     "metadata": {},
     "output_type": "execute_result"
    }
   ],
   "source": [
    "result"
   ]
  },
  {
   "cell_type": "code",
   "execution_count": null,
   "id": "206ffa8d-a8e8-418d-bab5-586a76a44fd4",
   "metadata": {},
   "outputs": [],
   "source": []
  },
  {
   "cell_type": "code",
   "execution_count": 10,
   "id": "245811a2-f122-4346-ada7-c1ebad42ca35",
   "metadata": {},
   "outputs": [
    {
     "name": "stdout",
     "output_type": "stream",
     "text": [
      "[ 4 15 20 18]\n"
     ]
    }
   ],
   "source": [
    "t_col = [4, 1, -2, 3]\n",
    "t_row = [4, 2, 0, -1]\n",
    "\n",
    "v = np.array([1, 2, 3, 4])\n",
    "\n",
    "T = toeplitz(t_col, t_row)\n",
    "\n",
    "print(T @ v)"
   ]
  },
  {
   "cell_type": "code",
   "execution_count": null,
   "id": "2f85bc1e-8dfb-4e1c-94a5-d02bfdbf7814",
   "metadata": {},
   "outputs": [],
   "source": []
  }
 ],
 "metadata": {
  "kernelspec": {
   "display_name": "Python [conda env:base] *",
   "language": "python",
   "name": "conda-base-py"
  },
  "language_info": {
   "codemirror_mode": {
    "name": "ipython",
    "version": 3
   },
   "file_extension": ".py",
   "mimetype": "text/x-python",
   "name": "python",
   "nbconvert_exporter": "python",
   "pygments_lexer": "ipython3",
   "version": "3.12.7"
  }
 },
 "nbformat": 4,
 "nbformat_minor": 5
}
